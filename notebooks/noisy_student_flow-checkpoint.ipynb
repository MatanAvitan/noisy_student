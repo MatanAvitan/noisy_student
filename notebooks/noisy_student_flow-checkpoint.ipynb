{
 "cells": [
  {
   "cell_type": "markdown",
   "metadata": {
    "toc": true
   },
   "source": [
    "<h1>Table of Contents<span class=\"tocSkip\"></span></h1>\n",
    "<div class=\"toc\"><ul class=\"toc-item\"><li><span><a href=\"#create-student-teacher-loop\" data-toc-modified-id=\"create-student-teacher-loop-1\"><span class=\"toc-item-num\">1&nbsp;&nbsp;</span>create student teacher loop</a></span></li></ul></div>"
   ]
  },
  {
   "cell_type": "code",
   "execution_count": 1,
   "metadata": {
    "ExecuteTime": {
     "end_time": "2020-05-19T00:43:51.990760Z",
     "start_time": "2020-05-19T00:43:50.876963Z"
    }
   },
   "outputs": [
    {
     "name": "stdout",
     "output_type": "stream",
     "text": [
      "Requirement already up-to-date: openpifpaf==0.10.1 in /Users/atalya/anaconda3/envs/ydata_course/lib/python3.8/site-packages (0.10.1)\n",
      "Requirement already satisfied, skipping upgrade: pysparkling in /Users/atalya/anaconda3/envs/ydata_course/lib/python3.8/site-packages (from openpifpaf==0.10.1) (0.6.0)\n",
      "Requirement already satisfied, skipping upgrade: torchvision>=0.3 in /Users/atalya/anaconda3/envs/ydata_course/lib/python3.8/site-packages (from openpifpaf==0.10.1) (0.5.0)\n",
      "Requirement already satisfied, skipping upgrade: numpy>=1.16 in /Users/atalya/anaconda3/envs/ydata_course/lib/python3.8/site-packages (from openpifpaf==0.10.1) (1.17.4)\n",
      "Requirement already satisfied, skipping upgrade: scipy in /Users/atalya/anaconda3/envs/ydata_course/lib/python3.8/site-packages (from openpifpaf==0.10.1) (1.4.1)\n",
      "Requirement already satisfied, skipping upgrade: python-json-logger in /Users/atalya/anaconda3/envs/ydata_course/lib/python3.8/site-packages (from openpifpaf==0.10.1) (0.1.11)\n",
      "Requirement already satisfied, skipping upgrade: torch>=1.1.0 in /Users/atalya/anaconda3/envs/ydata_course/lib/python3.8/site-packages (from openpifpaf==0.10.1) (1.4.0)\n",
      "Requirement already satisfied, skipping upgrade: requests>=2.6.0 in /Users/atalya/anaconda3/envs/ydata_course/lib/python3.8/site-packages (from pysparkling->openpifpaf==0.10.1) (2.23.0)\n",
      "Requirement already satisfied, skipping upgrade: boto>=2.36.0 in /Users/atalya/anaconda3/envs/ydata_course/lib/python3.8/site-packages (from pysparkling->openpifpaf==0.10.1) (2.49.0)\n",
      "Requirement already satisfied, skipping upgrade: future>=0.15 in /Users/atalya/anaconda3/envs/ydata_course/lib/python3.8/site-packages (from pysparkling->openpifpaf==0.10.1) (0.18.2)\n",
      "Requirement already satisfied, skipping upgrade: six in /Users/atalya/anaconda3/envs/ydata_course/lib/python3.8/site-packages (from torchvision>=0.3->openpifpaf==0.10.1) (1.14.0)\n",
      "Requirement already satisfied, skipping upgrade: pillow>=4.1.1 in /Users/atalya/anaconda3/envs/ydata_course/lib/python3.8/site-packages (from torchvision>=0.3->openpifpaf==0.10.1) (6.2.2)\n",
      "Requirement already satisfied, skipping upgrade: certifi>=2017.4.17 in /Users/atalya/anaconda3/envs/ydata_course/lib/python3.8/site-packages (from requests>=2.6.0->pysparkling->openpifpaf==0.10.1) (2020.4.5.1)\n",
      "Requirement already satisfied, skipping upgrade: chardet<4,>=3.0.2 in /Users/atalya/anaconda3/envs/ydata_course/lib/python3.8/site-packages (from requests>=2.6.0->pysparkling->openpifpaf==0.10.1) (3.0.4)\n",
      "Requirement already satisfied, skipping upgrade: urllib3!=1.25.0,!=1.25.1,<1.26,>=1.21.1 in /Users/atalya/anaconda3/envs/ydata_course/lib/python3.8/site-packages (from requests>=2.6.0->pysparkling->openpifpaf==0.10.1) (1.25.9)\n",
      "Requirement already satisfied, skipping upgrade: idna<3,>=2.5 in /Users/atalya/anaconda3/envs/ydata_course/lib/python3.8/site-packages (from requests>=2.6.0->pysparkling->openpifpaf==0.10.1) (2.9)\n"
     ]
    }
   ],
   "source": [
    "!pip install --upgrade openpifpaf==0.10.1\n"
   ]
  },
  {
   "cell_type": "code",
   "execution_count": 2,
   "metadata": {
    "ExecuteTime": {
     "end_time": "2020-05-19T00:43:52.733542Z",
     "start_time": "2020-05-19T00:43:51.994416Z"
    }
   },
   "outputs": [
    {
     "name": "stdout",
     "output_type": "stream",
     "text": [
      "0.10.1\n",
      "1.4.0\n"
     ]
    }
   ],
   "source": [
    "%matplotlib inline\n",
    "\n",
    "import io\n",
    "import numpy as np\n",
    "import openpifpaf\n",
    "import PIL\n",
    "import requests\n",
    "import torch\n",
    "\n",
    "device = torch.device(\"cuda\" if torch.cuda.is_available() else \"cpu\")\n",
    "\n",
    "print(openpifpaf.__version__)\n",
    "print(torch.__version__)"
   ]
  },
  {
   "cell_type": "markdown",
   "metadata": {},
   "source": [
    "### create student teacher loop"
   ]
  },
  {
   "cell_type": "code",
   "execution_count": 3,
   "metadata": {
    "ExecuteTime": {
     "end_time": "2020-05-19T00:44:14.528511Z",
     "start_time": "2020-05-19T00:43:52.736319Z"
    }
   },
   "outputs": [
    {
     "name": "stdout",
     "output_type": "stream",
     "text": [
      "stage 0\n",
      "loading annotations into memory...\n",
      "Done (t=0.27s)\n",
      "creating index...\n",
      "index created!\n",
      "Images: 2693\n",
      "loading annotations into memory...\n",
      "Done (t=0.31s)\n",
      "creating index...\n",
      "index created!\n",
      "None\n",
      "stage 1\n",
      "loading annotations into memory...\n",
      "Done (t=0.20s)\n",
      "creating index...\n",
      "index created!\n",
      "Images: 2693\n",
      "loading annotations into memory...\n",
      "Done (t=0.27s)\n",
      "creating index...\n",
      "index created!\n",
      "None\n",
      "stage 2\n",
      "loading annotations into memory...\n",
      "Done (t=0.24s)\n",
      "creating index...\n",
      "index created!\n",
      "Images: 2693\n",
      "loading annotations into memory...\n",
      "Done (t=0.21s)\n",
      "creating index...\n",
      "index created!\n",
      "None\n",
      "stage 3\n",
      "loading annotations into memory...\n",
      "Done (t=0.24s)\n",
      "creating index...\n",
      "index created!\n",
      "Images: 2693\n",
      "loading annotations into memory...\n",
      "Done (t=0.28s)\n",
      "creating index...\n",
      "index created!\n",
      "None\n"
     ]
    }
   ],
   "source": [
    "from teacher import Teacher\n",
    "teacher = Teacher(teacher=None)\n",
    "for i in range(4):\n",
    "    print('stage {}'.format(i))\n",
    "    teacher.learn() # train model\n",
    "    teacher.teach() # generate pseud\\o labels\n",
    "    teacher = Teacher(teacher=teacher) # create teacher as new student"
   ]
  },
  {
   "cell_type": "code",
   "execution_count": null,
   "metadata": {},
   "outputs": [],
   "source": [
    "    "
   ]
  },
  {
   "cell_type": "code",
   "execution_count": null,
   "metadata": {},
   "outputs": [],
   "source": []
  }
 ],
 "metadata": {
  "hide_input": false,
  "kernelspec": {
   "display_name": "Python 3",
   "language": "python",
   "name": "python3"
  },
  "language_info": {
   "codemirror_mode": {
    "name": "ipython",
    "version": 3
   },
   "file_extension": ".py",
   "mimetype": "text/x-python",
   "name": "python",
   "nbconvert_exporter": "python",
   "pygments_lexer": "ipython3",
   "version": "3.8.2"
  },
  "toc": {
   "base_numbering": 1,
   "nav_menu": {},
   "number_sections": true,
   "sideBar": true,
   "skip_h1_title": false,
   "title_cell": "Table of Contents",
   "title_sidebar": "Contents",
   "toc_cell": true,
   "toc_position": {},
   "toc_section_display": true,
   "toc_window_display": true
  }
 },
 "nbformat": 4,
 "nbformat_minor": 4
}
